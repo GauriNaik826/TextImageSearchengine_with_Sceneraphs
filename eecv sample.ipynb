{
 "cells": [
  {
   "cell_type": "code",
   "execution_count": 2,
   "metadata": {},
   "outputs": [
    {
     "data": {
      "text/plain": [
       "1332"
      ]
     },
     "execution_count": 2,
     "metadata": {},
     "output_type": "execute_result"
    }
   ],
   "source": [
    "import json \n",
    "\n",
    "# data = json.loads('eccv_caption_to_image.json')\n",
    "\n",
    "with open('eccv_caption_to_image.json', 'r') as file:\n",
    "    data = json.load(file)\n",
    "\n",
    "len(data)"
   ]
  },
  {
   "cell_type": "code",
   "execution_count": 46,
   "metadata": {},
   "outputs": [],
   "source": [
    "keys = list(data)[:21]"
   ]
  },
  {
   "cell_type": "code",
   "execution_count": 47,
   "metadata": {},
   "outputs": [
    {
     "name": "stdout",
     "output_type": "stream",
     "text": [
      "{'552666': ['000000445512', '000000068120', '000000439180', '000000424812', '000000322511', '000000560880', '000000441009', '000000031667', '000000450037', '000000474934', '000000329336', '000000492282', '000000373119'], '687618': ['000000143554', '000000084258', '000000296524', '000000032400', '000000240274', '000000515347', '000000042201', '000000333182', '000000262175'], '405058': ['000000301827', '000000545734', '000000482022', '000000575367', '000000048905', '000000206705', '000000412978', '000000059383', '000000097240', '000000298461'], '703860': ['000000269254', '000000191846', '000000012744', '000000559665', '000000187857', '000000480021', '000000005205', '000000031965', '000000349437', '000000487450', '000000046077'], '776132': ['000000462755', '000000182279', '000000276458', '000000502090', '000000082293', '000000509270', '000000382743'], '287571': ['000000256868', '000000262148', '000000391365', '000000208808', '000000125071', '000000110551', '000000465911', '000000532211', '000000360181', '000000208311'], '478500': ['000000372577', '000000079139', '000000542755', '000000015017', '000000195275', '000000390475', '000000454957', '000000282251', '000000243213', '000000475403', '000000429108', '033368246649', '000000313372', '000000209917'], '67000': ['000000368961', '000000259625', '000000392212', '000000533979', '000000134555', '000000273118'], '137494': ['000000365121', '000000538819', '000000044934', '000000545039', '000000520787', '000000539926', '000000163611', '000000110630', '000000182503', '000000267694', '000000294831', '000000207151', '000000384822', '000000039671', '000000490620', '000000132415'], '427130': ['000000300000', '000000002753', '000000104421', '000000025989', '000000347950', '000000421072', '000000169361', '000000161144', '000000403421'], '285328': ['000000019904', '000000332877', '000000508302', '000000339022', '000000559665', '000000024343', '000000031965', '000000046077'], '549270': ['000000016928', '000000305540', '000000443949', '000000550322', '000000538451', '000000437599'], '270030': ['000000132612', '000000391016', '000000266920', '000000299089', '000000456690', '000000100661', '000000398005', '000000572055'], '377603': ['000000178761', '000000279994', '000000090366'], '22348': ['000000303267', '000000248774', '000000581929', '000000068490', '000000126766', '000000546095', '000000051250', '000000367579', '000000074460', '000000529981'], '196658': ['000000519744', '000000230884', '000000124647', '000000526126', '000000229553', '000000126257', '000000384723', '000000465911', '000000046269', '000000442463'], '231576': ['000000154241', '000000334977', '000000498665', '000000436426', '000000444746', '000000191069'], '491426': ['000000461378', '000000077282', '000000366630', '000000251590', '000000027656', '000000410278', '000000478282', '000000213224', '000000447087', '000000547601', '000000541587', '000000083923', '000000393338'], '455622': ['000000365121', '000000069698', '000000044934', '000000110630', '000000182503', '000000294831', '000000520787', '000000095062', '000000163611', '000000132415'], '452624': ['000000372384', '000000258628', '000000272262', '000000015017', '000000325228', '000000280909', '000000069392', '000000273493', '000000323639', '000000246649', '000000258588', '000000134558'], '587826': ['000000019904', '000000225792', '000000312803', '000000580613', '000000196490', '000000253964', '000000171695', '000000559665', '000000445041', '000000187857', '000000046077']}\n"
     ]
    }
   ],
   "source": [
    "images = {}\n",
    "for i in keys:\n",
    "    temp = []\n",
    "    for j in data[i]:\n",
    "        val1 = len(str(j))\n",
    "        zeroes = 12 - val1\n",
    "        val = '0' * zeroes + str(j)\n",
    "        temp.append(val)\n",
    "    images[i] = temp\n",
    "    \n",
    "print(images)"
   ]
  },
  {
   "cell_type": "code",
   "execution_count": 19,
   "metadata": {},
   "outputs": [],
   "source": [
    "import json\n",
    "\n",
    "# Reading from a file\n",
    "with open('captions.json', 'r') as file:\n",
    "    captions_dict = json.load(file)\n",
    "    \n",
    "ls = list(captions_dict)"
   ]
  },
  {
   "cell_type": "code",
   "execution_count": 43,
   "metadata": {},
   "outputs": [
    {
     "name": "stdout",
     "output_type": "stream",
     "text": [
      "587826\n",
      "587826\n",
      "587826\n",
      "587826\n",
      "587826\n",
      "587826\n",
      "587826\n",
      "587826\n",
      "587826\n",
      "587826\n",
      "587826\n"
     ]
    }
   ],
   "source": [
    "for i in images[ls[19]]:\n",
    "    print(ls[19])\n",
    "    get_images(i)"
   ]
  },
  {
   "cell_type": "code",
   "execution_count": 22,
   "metadata": {},
   "outputs": [],
   "source": [
    "import requests\n",
    "\n",
    "# Construct the URL\n",
    "\n",
    "def get_images(id):\n",
    "    base_url = \"http://images.cocodataset.org/train2017/\"\n",
    "    image_url = f\"{base_url}{id}.jpg\"\n",
    "\n",
    "    # Download the image\n",
    "    response = requests.get(image_url)\n",
    "    if response.status_code == 200:\n",
    "        with open(f\"train-image_{id}.jpg\", 'wb') as f:\n",
    "            f.write(response.content)\n",
    "    else:\n",
    "        base_url = \"http://images.cocodataset.org/val2017/\"\n",
    "        response = requests.get(image_url)\n",
    "        if response.status_code == 200:\n",
    "            with open(f\"val-image_{id}.jpg\", 'wb') as f:\n",
    "                f.write(response.content)"
   ]
  },
  {
   "cell_type": "code",
   "execution_count": 7,
   "metadata": {},
   "outputs": [
    {
     "data": {
      "text/plain": [
       "12"
      ]
     },
     "execution_count": 7,
     "metadata": {},
     "output_type": "execute_result"
    }
   ],
   "source": [
    "len('000000445512')"
   ]
  },
  {
   "cell_type": "code",
   "execution_count": 45,
   "metadata": {},
   "outputs": [
    {
     "name": "stdout",
     "output_type": "stream",
     "text": [
      "Recall@1 = 0.0\n",
      "Recall@2 = 0.25\n",
      "Recall@3 = 0.25\n",
      "Recall@4 = 0.5\n",
      "Recall@5 = 0.75\n",
      "Recall@6 = 0.75\n",
      "Recall@7 = 1.0\n",
      "Recall@8 = 1.0\n"
     ]
    }
   ],
   "source": [
    "def recall_at_k(actual, predicted, k):\n",
    "    # Convert to sets for efficient comparison\n",
    "    actual_set = set(actual)\n",
    "    predicted_set = set(predicted[:k])\n",
    "    \n",
    "    # Calculate recall\n",
    "    recall = len(actual_set & predicted_set) / len(actual_set)\n",
    "    \n",
    "    return round(recall, 2)\n",
    "\n",
    "# Example dataset\n",
    "actual = [\"2\", \"4\", \"5\", \"7\"]  # Actual relevant items\n",
    "predicted = [\"1\", \"2\", \"3\", \"4\", \"5\", \"6\", \"7\", \"8\"]  # Predicted items\n",
    "\n",
    "# Calculate recall for different K values\n",
    "for k in range(1, 9):\n",
    "    print(f\"Recall@{k} = {recall_at_k(actual, predicted, k)}\")\n"
   ]
  },
  {
   "cell_type": "code",
   "execution_count": null,
   "metadata": {},
   "outputs": [],
   "source": []
  }
 ],
 "metadata": {
  "kernelspec": {
   "display_name": "venv",
   "language": "python",
   "name": "python3"
  },
  "language_info": {
   "codemirror_mode": {
    "name": "ipython",
    "version": 3
   },
   "file_extension": ".py",
   "mimetype": "text/x-python",
   "name": "python",
   "nbconvert_exporter": "python",
   "pygments_lexer": "ipython3",
   "version": "3.10.5"
  }
 },
 "nbformat": 4,
 "nbformat_minor": 2
}
