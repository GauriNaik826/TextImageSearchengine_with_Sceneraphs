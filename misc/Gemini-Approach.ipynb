{
 "cells": [
  {
   "cell_type": "code",
   "execution_count": 31,
   "id": "365befe4-2a75-4006-bc03-78ce42997bde",
   "metadata": {},
   "outputs": [],
   "source": [
    "import warnings\n",
    "import re\n",
    "import pathlib\n",
    "import textwrap\n",
    "import google.generativeai as genai\n",
    "import os\n",
    "from IPython.display import display\n",
    "from IPython.display import Markdown\n",
    "import pandas as pd\n",
    "import time"
   ]
  },
  {
   "cell_type": "code",
   "execution_count": 27,
   "id": "9d75cbb8-095b-456f-b111-0ed88e6b3994",
   "metadata": {},
   "outputs": [
    {
     "name": "stdout",
     "output_type": "stream",
     "text": [
      "<class 'pandas.core.frame.DataFrame'>\n",
      "RangeIndex: 158915 entries, 0 to 158914\n",
      "Data columns (total 3 columns):\n",
      " #   Column           Non-Null Count   Dtype \n",
      "---  ------           --------------   ----- \n",
      " 0   image_name       158915 non-null  object\n",
      " 1    comment_number  158915 non-null  object\n",
      " 2    comment         158914 non-null  object\n",
      "dtypes: object(3)\n",
      "memory usage: 3.6+ MB\n"
     ]
    }
   ],
   "source": [
    "df = pd.read_csv('results.csv', sep='|')\n",
    "df.head(5)\n",
    "df.info()"
   ]
  },
  {
   "cell_type": "code",
   "execution_count": 30,
   "id": "059b7e15-dcd3-407d-9a2a-786b329cf86e",
   "metadata": {},
   "outputs": [],
   "source": [
    "comments = df[\" comment\"]"
   ]
  },
  {
   "cell_type": "markdown",
   "id": "9301feed-6d8c-453d-94d7-ee7594268f56",
   "metadata": {},
   "source": [
    "### Gemini Based Approach"
   ]
  },
  {
   "cell_type": "code",
   "execution_count": null,
   "id": "14d515d1-a82b-4dfa-8175-43c983432ab4",
   "metadata": {},
   "outputs": [],
   "source": [
    "apiKey = 'Add Google API Key'"
   ]
  },
  {
   "cell_type": "code",
   "execution_count": 14,
   "id": "fc6ea358-13c8-4135-a6d3-e3268f63afcd",
   "metadata": {},
   "outputs": [],
   "source": [
    "genai.configure(api_key=apiKey)\n",
    "\n",
    "model = genai.GenerativeModel('gemini-pro')"
   ]
  },
  {
   "cell_type": "code",
   "execution_count": 43,
   "id": "dd0994ae-5950-4366-b6bb-0e9a8be38d12",
   "metadata": {},
   "outputs": [
    {
     "name": "stdout",
     "output_type": "stream",
     "text": [
      "[\"\\n    You are Language Reasoning Model present as a part of Multi-Task Learning part in a Vision Language Model who is aiming to improve the compositional understanding of the model. \\n    You need to breakdown a multi-part query given below as 'content' into smaller components where each component contains a particular single part of the content.  \\n    For example: Input = 'A man playing guitar wearing a red shirt on a busy street', Output = ['A man', 'playing guitar', 'wearing a red shirt', 'on a busy street']\\n    Your input would be  Two young guys with shaggy hair look at their hands while hanging out in the yard . and your output should look like: ['component1', 'component2', 'component3', 'component4', ....]\\n    \", \"\\n    You are Language Reasoning Model present as a part of Multi-Task Learning part in a Vision Language Model who is aiming to improve the compositional understanding of the model. \\n    You need to breakdown a multi-part query given below as 'content' into smaller components where each component contains a particular single part of the content.  \\n    For example: Input = 'A man playing guitar wearing a red shirt on a busy street', Output = ['A man', 'playing guitar', 'wearing a red shirt', 'on a busy street']\\n    Your input would be  Two young , White males are outside near many bushes . and your output should look like: ['component1', 'component2', 'component3', 'component4', ....]\\n    \", \"\\n    You are Language Reasoning Model present as a part of Multi-Task Learning part in a Vision Language Model who is aiming to improve the compositional understanding of the model. \\n    You need to breakdown a multi-part query given below as 'content' into smaller components where each component contains a particular single part of the content.  \\n    For example: Input = 'A man playing guitar wearing a red shirt on a busy street', Output = ['A man', 'playing guitar', 'wearing a red shirt', 'on a busy street']\\n    Your input would be  Two men in green shirts are standing in a yard . and your output should look like: ['component1', 'component2', 'component3', 'component4', ....]\\n    \", \"\\n    You are Language Reasoning Model present as a part of Multi-Task Learning part in a Vision Language Model who is aiming to improve the compositional understanding of the model. \\n    You need to breakdown a multi-part query given below as 'content' into smaller components where each component contains a particular single part of the content.  \\n    For example: Input = 'A man playing guitar wearing a red shirt on a busy street', Output = ['A man', 'playing guitar', 'wearing a red shirt', 'on a busy street']\\n    Your input would be  A man in a blue shirt standing in a garden . and your output should look like: ['component1', 'component2', 'component3', 'component4', ....]\\n    \", \"\\n    You are Language Reasoning Model present as a part of Multi-Task Learning part in a Vision Language Model who is aiming to improve the compositional understanding of the model. \\n    You need to breakdown a multi-part query given below as 'content' into smaller components where each component contains a particular single part of the content.  \\n    For example: Input = 'A man playing guitar wearing a red shirt on a busy street', Output = ['A man', 'playing guitar', 'wearing a red shirt', 'on a busy street']\\n    Your input would be  Two friends enjoy time spent together . and your output should look like: ['component1', 'component2', 'component3', 'component4', ....]\\n    \", \"\\n    You are Language Reasoning Model present as a part of Multi-Task Learning part in a Vision Language Model who is aiming to improve the compositional understanding of the model. \\n    You need to breakdown a multi-part query given below as 'content' into smaller components where each component contains a particular single part of the content.  \\n    For example: Input = 'A man playing guitar wearing a red shirt on a busy street', Output = ['A man', 'playing guitar', 'wearing a red shirt', 'on a busy street']\\n    Your input would be  Several men in hard hats are operating a giant pulley system . and your output should look like: ['component1', 'component2', 'component3', 'component4', ....]\\n    \", \"\\n    You are Language Reasoning Model present as a part of Multi-Task Learning part in a Vision Language Model who is aiming to improve the compositional understanding of the model. \\n    You need to breakdown a multi-part query given below as 'content' into smaller components where each component contains a particular single part of the content.  \\n    For example: Input = 'A man playing guitar wearing a red shirt on a busy street', Output = ['A man', 'playing guitar', 'wearing a red shirt', 'on a busy street']\\n    Your input would be  Workers look down from up above on a piece of equipment . and your output should look like: ['component1', 'component2', 'component3', 'component4', ....]\\n    \", \"\\n    You are Language Reasoning Model present as a part of Multi-Task Learning part in a Vision Language Model who is aiming to improve the compositional understanding of the model. \\n    You need to breakdown a multi-part query given below as 'content' into smaller components where each component contains a particular single part of the content.  \\n    For example: Input = 'A man playing guitar wearing a red shirt on a busy street', Output = ['A man', 'playing guitar', 'wearing a red shirt', 'on a busy street']\\n    Your input would be  Two men working on a machine wearing hard hats . and your output should look like: ['component1', 'component2', 'component3', 'component4', ....]\\n    \", \"\\n    You are Language Reasoning Model present as a part of Multi-Task Learning part in a Vision Language Model who is aiming to improve the compositional understanding of the model. \\n    You need to breakdown a multi-part query given below as 'content' into smaller components where each component contains a particular single part of the content.  \\n    For example: Input = 'A man playing guitar wearing a red shirt on a busy street', Output = ['A man', 'playing guitar', 'wearing a red shirt', 'on a busy street']\\n    Your input would be  Four men on top of a tall structure . and your output should look like: ['component1', 'component2', 'component3', 'component4', ....]\\n    \", \"\\n    You are Language Reasoning Model present as a part of Multi-Task Learning part in a Vision Language Model who is aiming to improve the compositional understanding of the model. \\n    You need to breakdown a multi-part query given below as 'content' into smaller components where each component contains a particular single part of the content.  \\n    For example: Input = 'A man playing guitar wearing a red shirt on a busy street', Output = ['A man', 'playing guitar', 'wearing a red shirt', 'on a busy street']\\n    Your input would be  Three men on a large rig . and your output should look like: ['component1', 'component2', 'component3', 'component4', ....]\\n    \"]\n"
     ]
    }
   ],
   "source": [
    "prompts = []\n",
    "\n",
    "for i in range(10):\n",
    "    content = comments[i]\n",
    "    prompt = f'''\n",
    "    You are Language Reasoning Model present as a part of Multi-Task Learning part in a Vision Language Model who is aiming to improve the compositional understanding of the model. \n",
    "    You need to breakdown a multi-part query given below as 'content' into smaller components where each component contains a particular single part of the content.  \n",
    "    For example: Input = 'A man playing guitar wearing a red shirt on a busy street', Output = ['A man', 'playing guitar', 'wearing a red shirt', 'on a busy street']\n",
    "    Your input would be {content} and your output should look like: ['component1', 'component2', 'component3', 'component4', ....]\n",
    "    '''\n",
    "    prompts.append(prompt)\n",
    "\n",
    "print(prompts)"
   ]
  },
  {
   "cell_type": "code",
   "execution_count": null,
   "id": "e6b949c6-23e1-4f5c-8975-f9c895819896",
   "metadata": {},
   "outputs": [
    {
     "name": "stdout",
     "output_type": "stream",
     "text": [
      "Row 1:  ['Two young guys', 'with shaggy hair', 'look at their hands', 'while hanging out in the yard']\n",
      "Row 2:  ['Two young', 'White males', 'are outside', 'near many bushes']\n",
      "Row 3:  ['Two men', 'in green shirts', 'are standing', 'in a yard']\n",
      "Row 4:  ['A man', 'in a blue shirt', 'standing', 'in a garden']\n",
      "Row 5:  ['Two friends', 'enjoy', 'time spent together']\n",
      "Row 6:  ['Several men', 'in hard hats', 'are operating', 'a giant pulley system']\n",
      "Row 7:  ['Workers', 'look down', 'from up above', 'on a piece of equipment']\n",
      "Row 8:  ['Two men', 'working on a machine', 'wearing hard hats']\n",
      "Row 9:  ['Four men', 'on top of', 'a tall structure']\n",
      "Row 10:  ['Three men', 'on a large rig']\n"
     ]
    }
   ],
   "source": [
    "i = 0\n",
    "\n",
    "for prompt in prompts:\n",
    "    response = model.generate_content(prompt).text\n",
    "    print(f'Row {i + 1}: ', response)\n",
    "    i += 1\n",
    "    time.sleep(5)"
   ]
  },
  {
   "cell_type": "code",
   "execution_count": null,
   "id": "ddf1c9d8-6891-4c3d-b05c-2f39fe97414a",
   "metadata": {},
   "outputs": [],
   "source": []
  }
 ],
 "metadata": {
  "kernelspec": {
   "display_name": "Python 3.12.2 (default)",
   "language": "python",
   "name": "python3"
  },
  "language_info": {
   "codemirror_mode": {
    "name": "ipython",
    "version": 3
   },
   "file_extension": ".py",
   "mimetype": "text/x-python",
   "name": "python",
   "nbconvert_exporter": "python",
   "pygments_lexer": "ipython3",
   "version": "3.12.2"
  }
 },
 "nbformat": 4,
 "nbformat_minor": 5
}
